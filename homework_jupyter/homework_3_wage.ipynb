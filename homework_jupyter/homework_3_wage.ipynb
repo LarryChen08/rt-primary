{
 "cells": [
  {
   "cell_type": "code",
   "execution_count": 1,
   "metadata": {},
   "outputs": [
    {
     "name": "stdout",
     "output_type": "stream",
     "text": [
      "your final wage: 66910.0\n"
     ]
    }
   ],
   "source": [
    "wage = eval(input('please input your wage:'))\n",
    "a = wage\n",
    "sum = 0\n",
    "\n",
    "taxList = [5000,3000,9000,13000,10000,20000,25000]\n",
    "tax = [0,0.03,0.1,0.2,0.25,0.3,0.35,0.45]\n",
    "for i in range(8):\n",
    "    if i == 7:\n",
    "        sum += a*tax[i]\n",
    "        break\n",
    "    if a <= taxList[i]:\n",
    "        sum += a*tax[i]\n",
    "        break\n",
    "    sum += taxList[i]*tax[i]\n",
    "    a -= taxList[i]\n",
    "print('your final wage: ' + str(wage-sum))"
   ]
  },
  {
   "cell_type": "code",
   "execution_count": 5,
   "metadata": {},
   "outputs": [],
   "source": [
    "if 1 == (3 or 2):\n",
    "    print('aaa')"
   ]
  },
  {
   "cell_type": "code",
   "execution_count": 8,
   "metadata": {},
   "outputs": [
    {
     "data": {
      "text/plain": [
       "'a'"
      ]
     },
     "execution_count": 8,
     "metadata": {},
     "output_type": "execute_result"
    }
   ],
   "source": [
    "chr(97)"
   ]
  },
  {
   "cell_type": "code",
   "execution_count": 2,
   "metadata": {},
   "outputs": [
    {
     "name": "stdout",
     "output_type": "stream",
     "text": [
      "your initial wage: 90000.0\n"
     ]
    }
   ],
   "source": [
    "wage = eval(input('input your final wage:'))\n",
    "sum = 0\n",
    "\n",
    "taxList = [5000,3000,9000,13000,10000,20000,25000]\n",
    "taxList2 = [5000,2910,8100,10400,7500,14000,16250]\n",
    "tax = [0,0.03,0.1,0.2,0.25,0.3,0.35,0.45]\n",
    "\n",
    "for i in range(8):\n",
    "    if i == 7:\n",
    "        sum += wage/(1-tax[i])     \n",
    "        break\n",
    "    if wage <= taxList2[i]:\n",
    "        sum += wage/(1-tax[i])\n",
    "        break\n",
    "    sum += taxList[i]\n",
    "    wage -= taxList2[i]\n",
    "print('your initial wage: ' + str(sum))\n"
   ]
  }
 ],
 "metadata": {
  "kernelspec": {
   "display_name": "Larry",
   "language": "python",
   "name": "python3"
  },
  "language_info": {
   "codemirror_mode": {
    "name": "ipython",
    "version": 3
   },
   "file_extension": ".py",
   "mimetype": "text/x-python",
   "name": "python",
   "nbconvert_exporter": "python",
   "pygments_lexer": "ipython3",
   "version": "3.11.4"
  },
  "orig_nbformat": 4
 },
 "nbformat": 4,
 "nbformat_minor": 2
}
