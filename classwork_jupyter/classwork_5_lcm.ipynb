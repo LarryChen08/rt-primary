{
 "cells": [
  {
   "cell_type": "code",
   "execution_count": 23,
   "metadata": {},
   "outputs": [],
   "source": [
    "def prime(x):\n",
    "    res = []\n",
    "    for i in range(2,int(x**0.5//1+1)):\n",
    "        if x % i == 0:\n",
    "            while True:\n",
    "                if x % i == 0:\n",
    "                    res.append(i)\n",
    "                    x /= i\n",
    "                else:\n",
    "                    break\n",
    "            if x == 1:\n",
    "                return res\n",
    "            continue\n",
    "\n",
    "        \n"
   ]
  },
  {
   "cell_type": "code",
   "execution_count": 29,
   "metadata": {},
   "outputs": [
    {
     "name": "stdout",
     "output_type": "stream",
     "text": [
      "LCM: 120\n",
      "GCD: 12\n"
     ]
    }
   ],
   "source": [
    "a, b = eval(input('a,b='))\n",
    "if b > a:\n",
    "    a, b = b, a\n",
    "bList = prime(b)\n",
    "GCD = 1\n",
    "for i in bList:\n",
    "    if a % i == 0:\n",
    "        a /= i\n",
    "        GCD *= i\n",
    "print('LCM: '+str(int(a*b)))\n",
    "print('GCD: '+str(GCD))"
   ]
  },
  {
   "cell_type": "code",
   "execution_count": null,
   "metadata": {},
   "outputs": [
    {
     "ename": "SyntaxError",
     "evalue": "invalid syntax (<string>, line 0)",
     "output_type": "error",
     "traceback": [
      "Traceback \u001b[0;36m(most recent call last)\u001b[0m:\n",
      "\u001b[0m  File \u001b[1;32m~/Library/Python/3.11/lib/python/site-packages/IPython/core/interactiveshell.py:3508\u001b[0m in \u001b[1;35mrun_code\u001b[0m\n    exec(code_obj, self.user_global_ns, self.user_ns)\u001b[0m\n",
      "\u001b[0;36m  Cell \u001b[0;32mIn[13], line 1\u001b[0;36m\n\u001b[0;31m    a, b = eval(input('a,b='))\u001b[0;36m\n",
      "\u001b[0;36m  File \u001b[0;32m<string>\u001b[0;36m\u001b[0m\n\u001b[0;31m    \u001b[0m\n\u001b[0m    ^\u001b[0m\n\u001b[0;31mSyntaxError\u001b[0m\u001b[0;31m:\u001b[0m invalid syntax\n"
     ]
    }
   ],
   "source": [
    "a, b = eval(input('a,b='))\n",
    "if b > a:\n",
    "    a, b = b, a\n",
    "for n in range(a,a*b+1,a):\n",
    "    if n % a == 0 and n % b == 0:\n",
    "        print('LCM: '+str(n))\n",
    "        break\n",
    "\n",
    "for i in range(b,0,-1):\n",
    "    if a % i == 0 and b % i == 0:\n",
    "        print('GCD: '+str(i))\n",
    "        break\n"
   ]
  },
  {
   "cell_type": "code",
   "execution_count": null,
   "metadata": {},
   "outputs": [
    {
     "name": "stdout",
     "output_type": "stream",
     "text": [
      "1.0\n"
     ]
    }
   ],
   "source": [
    "print(2**0.5//1)"
   ]
  }
 ],
 "metadata": {
  "kernelspec": {
   "display_name": "Python 3",
   "language": "python",
   "name": "python3"
  },
  "language_info": {
   "codemirror_mode": {
    "name": "ipython",
    "version": 3
   },
   "file_extension": ".py",
   "mimetype": "text/x-python",
   "name": "python",
   "nbconvert_exporter": "python",
   "pygments_lexer": "ipython3",
   "version": "3.11.4"
  },
  "orig_nbformat": 4
 },
 "nbformat": 4,
 "nbformat_minor": 2
}
