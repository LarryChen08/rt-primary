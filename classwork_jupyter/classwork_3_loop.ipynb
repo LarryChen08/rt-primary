{
 "cells": [
  {
   "cell_type": "code",
   "execution_count": null,
   "metadata": {},
   "outputs": [],
   "source": [
    "n = eval(input('n='))\n",
    "s = 0\n",
    "aMax = 0\n",
    "nMax = 0\n",
    "aMax2 = 0\n",
    "nMax2 = 0\n",
    "\n",
    "aMin = 100\n",
    "nMin = 0\n",
    "aMin2 = 100\n",
    "nMin2 = 0\n",
    "\n",
    "for i in range(n):\n",
    "    print('No. '+str(i+1))\n",
    "    a = eval(input('a='))\n",
    "    if a > aMax2:\n",
    "        aMax2,nMax2 = a, i\n",
    "        if aMax2 > aMax:\n",
    "            aMax2,aMax = aMax, aMax2\n",
    "            nMax2,nMax = nMax, nMax2          \n",
    "    if a < aMin2:\n",
    "        aMin2,nMin2 = a, i\n",
    "        if aMin2 < aMin:\n",
    "            aMin2,aMin = aMin, aMin2\n",
    "            nMin2,nMin = nMin, nMin2  \n",
    "    s += a\n",
    "\n",
    "print('sum: '+str(s))\n",
    "print('Min: '+str(aMin)+' No. '+str(nMin+1))\n",
    "print('Min2: '+str(aMin2)+' No. '+str(nMin2+1))\n",
    "print('Max: '+str(aMax)+' No. '+str(nMax+1))\n",
    "print('Max2: '+str(aMax2)+' No. '+str(nMax2+1))"
   ]
  }
 ],
 "metadata": {
  "language_info": {
   "name": "python"
  },
  "orig_nbformat": 4
 },
 "nbformat": 4,
 "nbformat_minor": 2
}
