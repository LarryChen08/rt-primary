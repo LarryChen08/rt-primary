{
 "cells": [
  {
   "cell_type": "code",
   "execution_count": 10,
   "metadata": {},
   "outputs": [
    {
     "name": "stdout",
     "output_type": "stream",
     "text": [
      "rabbit: 5 rooster: 5\n"
     ]
    }
   ],
   "source": [
    "h, f = eval(input('input the number of heads and feets:'))\n",
    "'''\n",
    "if h*2 > f or h*4 < f or f%2 == 1:\n",
    "    print('no answer')\n",
    "    '''\n",
    "\n",
    "for i in range(h+1):\n",
    "    if i*4 + (h-i)*2 == f:\n",
    "        print('rabbit: '+str(i),'rooster: '+str(h-i))\n",
    "        break\n",
    "    if i == h:\n",
    "        print('no answer')\n",
    "\n"
   ]
  },
  {
   "cell_type": "code",
   "execution_count": 13,
   "metadata": {},
   "outputs": [
    {
     "name": "stdout",
     "output_type": "stream",
     "text": [
      "\\\n"
     ]
    }
   ],
   "source": [
    "print('\\\\')"
   ]
  }
 ],
 "metadata": {
  "kernelspec": {
   "display_name": "Python 3",
   "language": "python",
   "name": "python3"
  },
  "language_info": {
   "codemirror_mode": {
    "name": "ipython",
    "version": 3
   },
   "file_extension": ".py",
   "mimetype": "text/x-python",
   "name": "python",
   "nbconvert_exporter": "python",
   "pygments_lexer": "ipython3",
   "version": "3.11.4"
  },
  "orig_nbformat": 4
 },
 "nbformat": 4,
 "nbformat_minor": 2
}
