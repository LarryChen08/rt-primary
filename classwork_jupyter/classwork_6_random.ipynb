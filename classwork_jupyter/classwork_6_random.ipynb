{
 "cells": [
  {
   "cell_type": "code",
   "execution_count": 5,
   "metadata": {},
   "outputs": [
    {
     "name": "stdout",
     "output_type": "stream",
     "text": [
      "Round 1\n",
      "Dice1: 3\tDice2: 3\tScore: 6\n",
      "Round 2\n",
      "Dice1: 1\tDice2: 2\tScore: 3\n",
      "Round 3\n",
      "Dice1: 3\tDice2: 5\tScore: 8\n",
      "Best: 8\n"
     ]
    }
   ],
   "source": [
    "#Casino1\n",
    "import random\n",
    "dMax = 0\n",
    "for i in range(3):\n",
    "    print('Round '+str(i+1))\n",
    "    input('Go!')\n",
    "    d1 = random.randint(1, 6)\n",
    "    d2 = random.randint(1, 6)\n",
    "    if d1 + d2 > dMax:\n",
    "        dMax = d1 + d2\n",
    "    print('Dice1: '+ str(d1) + '\\tDice2: '+str(d2)+'\\tScore: '+str(d1+d2))\n",
    "print('Best: '+str(dMax))\n"
   ]
  },
  {
   "cell_type": "code",
   "execution_count": 16,
   "metadata": {},
   "outputs": [
    {
     "name": "stdout",
     "output_type": "stream",
     "text": [
      "Round 1\n",
      "Player\tDice1: 4\tDice2: 3\tScore: 7\n",
      "CPU\tDice1: 4\tDice2: 3\tScore: 5\n",
      "You win!\n",
      "Round 2\n",
      "Player\tDice1: 1\tDice2: 5\tScore: 6\n",
      "CPU\tDice1: 1\tDice2: 5\tScore: 11\n",
      "CPU win!\n",
      "Round 3\n",
      "Player\tDice1: 2\tDice2: 5\tScore: 7\n",
      "CPU\tDice1: 2\tDice2: 5\tScore: 7\n",
      "Draw!\n",
      "Player win: 1 \tCPU win: 1 \tDraw: 1\n",
      "CPU win!\n"
     ]
    }
   ],
   "source": [
    "#Casino2\n",
    "import random\n",
    "\n",
    "dMax = 0\n",
    "PointList = [[],[],[]]\n",
    "ScoreList = [0,0]\n",
    "winDic = {'Pwin':0,'Cwin':0,'Draw':0}\n",
    "for i in range(3):\n",
    "    print('Round '+str(i+1))\n",
    "    input('Go!')\n",
    "    d1 = random.randint(1, 6)\n",
    "    d2 = random.randint(1, 6)\n",
    "    score1 = d1+d2\n",
    "    ScoreList[0]+=score1\n",
    "    print('Player\\tDice1: '+ str(d1) + '\\tDice2: '+str(d2)+'\\tScore: '+str(score1))\n",
    "    d3 = random.randint(1, 6)\n",
    "    d4 = random.randint(1, 6)\n",
    "    score2 = d3+d4\n",
    "    ScoreList[1]+=score2\n",
    "    print('CPU\\tDice1: '+ str(d1) + '\\tDice2: '+str(d2)+'\\tScore: '+str(score2))\n",
    "    if score1 > score2:\n",
    "        print('You win!')\n",
    "        winDic['Pwin']+=1\n",
    "    elif score1 < score2:\n",
    "        print('CPU win!')\n",
    "        winDic['Cwin']+=1\n",
    "    else:\n",
    "        print('Draw!')\n",
    "        winDic['Draw']+=1\n",
    "print('Player win:',winDic['Pwin'],'\\tCPU win:',winDic['Cwin'],'\\tDraw:',winDic['Draw'])\n",
    "if winDic['Pwin'] == winDic['Cwin']:\n",
    "    if ScoreList[0] > ScoreList[1]:\n",
    "        print('Player win!')\n",
    "    elif ScoreList[0] < ScoreList[1]:\n",
    "        print('CPU win!')\n",
    "    else:\n",
    "        print('Draw!')\n",
    "elif winDic['Pwin'] > winDic['Cwin']:\n",
    "    print('Player win!')\n",
    "else:\n",
    "    print('CPU win!')\n"
   ]
  },
  {
   "cell_type": "code",
   "execution_count": 10,
   "metadata": {},
   "outputs": [
    {
     "ename": "KeyboardInterrupt",
     "evalue": "",
     "output_type": "error",
     "traceback": [
      "\u001b[0;31m---------------------------------------------------------------------------\u001b[0m",
      "\u001b[0;31mKeyError\u001b[0m                                  Traceback (most recent call last)",
      "File \u001b[0;32m~/miniconda3/envs/Larry/lib/python3.8/site-packages/pandas/core/indexes/base.py:3652\u001b[0m, in \u001b[0;36mIndex.get_loc\u001b[0;34m(self, key)\u001b[0m\n\u001b[1;32m   3651\u001b[0m \u001b[39mtry\u001b[39;00m:\n\u001b[0;32m-> 3652\u001b[0m     \u001b[39mreturn\u001b[39;00m \u001b[39mself\u001b[39;49m\u001b[39m.\u001b[39;49m_engine\u001b[39m.\u001b[39;49mget_loc(casted_key)\n\u001b[1;32m   3653\u001b[0m \u001b[39mexcept\u001b[39;00m \u001b[39mKeyError\u001b[39;00m \u001b[39mas\u001b[39;00m err:\n",
      "File \u001b[0;32m~/miniconda3/envs/Larry/lib/python3.8/site-packages/pandas/_libs/index.pyx:147\u001b[0m, in \u001b[0;36mpandas._libs.index.IndexEngine.get_loc\u001b[0;34m()\u001b[0m\n",
      "File \u001b[0;32m~/miniconda3/envs/Larry/lib/python3.8/site-packages/pandas/_libs/index.pyx:176\u001b[0m, in \u001b[0;36mpandas._libs.index.IndexEngine.get_loc\u001b[0;34m()\u001b[0m\n",
      "File \u001b[0;32mpandas/_libs/hashtable_class_helper.pxi:2606\u001b[0m, in \u001b[0;36mpandas._libs.hashtable.Int64HashTable.get_item\u001b[0;34m()\u001b[0m\n",
      "File \u001b[0;32mpandas/_libs/hashtable_class_helper.pxi:2630\u001b[0m, in \u001b[0;36mpandas._libs.hashtable.Int64HashTable.get_item\u001b[0;34m()\u001b[0m\n",
      "\u001b[0;31mKeyError\u001b[0m: 41143",
      "\nDuring handling of the above exception, another exception occurred:\n",
      "\u001b[0;31mKeyboardInterrupt\u001b[0m                         Traceback (most recent call last)",
      "Cell \u001b[0;32mIn[10], line 10\u001b[0m\n\u001b[1;32m      8\u001b[0m dList \u001b[39m=\u001b[39m [d1,d2,d3]\n\u001b[1;32m      9\u001b[0m dList\u001b[39m.\u001b[39msort(reverse\u001b[39m=\u001b[39m\u001b[39mTrue\u001b[39;00m)\n\u001b[0;32m---> 10\u001b[0m df\u001b[39m.\u001b[39;49mloc[i] \u001b[39m=\u001b[39m dList\n\u001b[1;32m     11\u001b[0m \u001b[39m#baozi\u001b[39;00m\n\u001b[1;32m     12\u001b[0m \u001b[39mif\u001b[39;00m d1 \u001b[39m==\u001b[39m d2 \u001b[39m==\u001b[39m d3:\n",
      "File \u001b[0;32m~/miniconda3/envs/Larry/lib/python3.8/site-packages/pandas/core/indexing.py:845\u001b[0m, in \u001b[0;36m_LocationIndexer.__setitem__\u001b[0;34m(self, key, value)\u001b[0m\n\u001b[1;32m    843\u001b[0m \u001b[39melse\u001b[39;00m:\n\u001b[1;32m    844\u001b[0m     key \u001b[39m=\u001b[39m com\u001b[39m.\u001b[39mapply_if_callable(key, \u001b[39mself\u001b[39m\u001b[39m.\u001b[39mobj)\n\u001b[0;32m--> 845\u001b[0m indexer \u001b[39m=\u001b[39m \u001b[39mself\u001b[39;49m\u001b[39m.\u001b[39;49m_get_setitem_indexer(key)\n\u001b[1;32m    846\u001b[0m \u001b[39mself\u001b[39m\u001b[39m.\u001b[39m_has_valid_setitem_indexer(key)\n\u001b[1;32m    848\u001b[0m iloc \u001b[39m=\u001b[39m \u001b[39mself\u001b[39m \u001b[39mif\u001b[39;00m \u001b[39mself\u001b[39m\u001b[39m.\u001b[39mname \u001b[39m==\u001b[39m \u001b[39m\"\u001b[39m\u001b[39miloc\u001b[39m\u001b[39m\"\u001b[39m \u001b[39melse\u001b[39;00m \u001b[39mself\u001b[39m\u001b[39m.\u001b[39mobj\u001b[39m.\u001b[39miloc\n",
      "File \u001b[0;32m~/miniconda3/envs/Larry/lib/python3.8/site-packages/pandas/core/indexing.py:716\u001b[0m, in \u001b[0;36m_LocationIndexer._get_setitem_indexer\u001b[0;34m(self, key)\u001b[0m\n\u001b[1;32m    712\u001b[0m \u001b[39mif\u001b[39;00m \u001b[39misinstance\u001b[39m(key, \u001b[39mrange\u001b[39m):\n\u001b[1;32m    713\u001b[0m     \u001b[39m# GH#45479 test_loc_setitem_range_key\u001b[39;00m\n\u001b[1;32m    714\u001b[0m     key \u001b[39m=\u001b[39m \u001b[39mlist\u001b[39m(key)\n\u001b[0;32m--> 716\u001b[0m \u001b[39mreturn\u001b[39;00m \u001b[39mself\u001b[39;49m\u001b[39m.\u001b[39;49m_convert_to_indexer(key, axis\u001b[39m=\u001b[39;49m\u001b[39m0\u001b[39;49m)\n",
      "File \u001b[0;32m~/miniconda3/envs/Larry/lib/python3.8/site-packages/pandas/core/indexing.py:1397\u001b[0m, in \u001b[0;36m_LocIndexer._convert_to_indexer\u001b[0;34m(self, key, axis)\u001b[0m\n\u001b[1;32m   1392\u001b[0m \u001b[39mif\u001b[39;00m is_scalar(key) \u001b[39mor\u001b[39;00m (\u001b[39misinstance\u001b[39m(labels, MultiIndex) \u001b[39mand\u001b[39;00m is_hashable(key)):\n\u001b[1;32m   1393\u001b[0m     \u001b[39m# Otherwise get_loc will raise InvalidIndexError\u001b[39;00m\n\u001b[1;32m   1394\u001b[0m \n\u001b[1;32m   1395\u001b[0m     \u001b[39m# if we are a label return me\u001b[39;00m\n\u001b[1;32m   1396\u001b[0m     \u001b[39mtry\u001b[39;00m:\n\u001b[0;32m-> 1397\u001b[0m         \u001b[39mreturn\u001b[39;00m labels\u001b[39m.\u001b[39;49mget_loc(key)\n\u001b[1;32m   1398\u001b[0m     \u001b[39mexcept\u001b[39;00m \u001b[39mLookupError\u001b[39;00m:\n\u001b[1;32m   1399\u001b[0m         \u001b[39mif\u001b[39;00m \u001b[39misinstance\u001b[39m(key, \u001b[39mtuple\u001b[39m) \u001b[39mand\u001b[39;00m \u001b[39misinstance\u001b[39m(labels, MultiIndex):\n",
      "File \u001b[0;32m~/miniconda3/envs/Larry/lib/python3.8/site-packages/pandas/core/indexes/base.py:3652\u001b[0m, in \u001b[0;36mIndex.get_loc\u001b[0;34m(self, key)\u001b[0m\n\u001b[1;32m   3650\u001b[0m casted_key \u001b[39m=\u001b[39m \u001b[39mself\u001b[39m\u001b[39m.\u001b[39m_maybe_cast_indexer(key)\n\u001b[1;32m   3651\u001b[0m \u001b[39mtry\u001b[39;00m:\n\u001b[0;32m-> 3652\u001b[0m     \u001b[39mreturn\u001b[39;00m \u001b[39mself\u001b[39;49m\u001b[39m.\u001b[39;49m_engine\u001b[39m.\u001b[39;49mget_loc(casted_key)\n\u001b[1;32m   3653\u001b[0m \u001b[39mexcept\u001b[39;00m \u001b[39mKeyError\u001b[39;00m \u001b[39mas\u001b[39;00m err:\n\u001b[1;32m   3654\u001b[0m     \u001b[39mraise\u001b[39;00m \u001b[39mKeyError\u001b[39;00m(key) \u001b[39mfrom\u001b[39;00m \u001b[39merr\u001b[39;00m\n",
      "\u001b[0;31mKeyboardInterrupt\u001b[0m: "
     ]
    }
   ],
   "source": [
    "#Casino3\n",
    "import random\n",
    "import pandas as pd\n",
    "def sortlist(list1):\n",
    "    resList = []\n",
    "    for i in list1:\n",
    "        if \n",
    "        \n",
    "\n",
    "df = pd.DataFrame([],columns=['dice1','dice2','dice3'])\n",
    "resDic = {'baozi':0,'shunzi':0,'duizi':0,'else':0}\n",
    "for i in range(100000):\n",
    "    d1,d2,d3 = random.randint(1,6),random.randint(1,6),random.randint(1,6)\n",
    "    dList = [d1,d2,d3]\n",
    "    dList.sort(reverse=True)\n",
    "    df.loc[i] = dList\n",
    "    #baozi\n",
    "    if d1 == d2 == d3:\n",
    "        resDic['baozi'] += 1\n",
    "    #shunzi\n",
    "    elif d1 - d2 == 1 and d2 - d3 == 0:\n",
    "        resDic['shunzi'] += 1\n",
    "    #duizi\n",
    "    elif d1 == d2 or d1 == d3 or d2 == d3:\n",
    "        resDic['duizi'] += 1\n",
    "    else:\n",
    "        resDic['else'] += 1\n",
    "print(resDic)\n",
    "print(df)"
   ]
  }
 ],
 "metadata": {
  "kernelspec": {
   "display_name": "Python 3",
   "language": "python",
   "name": "python3"
  },
  "language_info": {
   "codemirror_mode": {
    "name": "ipython",
    "version": 3
   },
   "file_extension": ".py",
   "mimetype": "text/x-python",
   "name": "python",
   "nbconvert_exporter": "python",
   "pygments_lexer": "ipython3",
   "version": "3.8.16"
  },
  "orig_nbformat": 4
 },
 "nbformat": 4,
 "nbformat_minor": 2
}
