{
 "cells": [
  {
   "cell_type": "code",
   "execution_count": 5,
   "metadata": {},
   "outputs": [
    {
     "name": "stdout",
     "output_type": "stream",
     "text": [
      "I guess 51\n",
      "1 101\n",
      "I guess 26\n",
      "1 51\n",
      "I guess 38\n",
      "26 51\n",
      "I guess 44\n",
      "38 51\n",
      "I guess 47\n",
      "44 51\n",
      "I guess 49\n",
      "47 51\n",
      "the answer is: 50\n"
     ]
    }
   ],
   "source": [
    "bottom, top = 1,101\n",
    "while bottom != top:\n",
    "    x = int((bottom + top)/2)\n",
    "    if bottom + 2 == top:\n",
    "        print('the answer is: '+str(x))\n",
    "        break\n",
    "    print('I guess '+str(x))\n",
    "    print(bottom,top)\n",
    "    ans = input('> or < or =:')\n",
    "    if ans == '>':\n",
    "        top = x\n",
    "        continue\n",
    "    elif ans == '<':\n",
    "        bottom = x\n",
    "        continue\n",
    "    \n",
    "    break"
   ]
  },
  {
   "cell_type": "code",
   "execution_count": 11,
   "metadata": {},
   "outputs": [
    {
     "name": "stdout",
     "output_type": "stream",
     "text": [
      "The answer is: 1.414213\n"
     ]
    }
   ],
   "source": [
    "n = eval(input('n='))\n",
    "l = eval(input('number of digits: '))\n",
    "t = 10 ** l\n",
    "bottom, top = 1, n\n",
    "while True:\n",
    "    x = (bottom + top)/2\n",
    "    if int(bottom*t) == int(top*t):\n",
    "        print('The answer is: '+str(int(top*t)/t))\n",
    "        break\n",
    "    if x*x > n:\n",
    "        top = x\n",
    "        continue\n",
    "    bottom = x\n"
   ]
  }
 ],
 "metadata": {
  "kernelspec": {
   "display_name": "Python 3",
   "language": "python",
   "name": "python3"
  },
  "language_info": {
   "codemirror_mode": {
    "name": "ipython",
    "version": 3
   },
   "file_extension": ".py",
   "mimetype": "text/x-python",
   "name": "python",
   "nbconvert_exporter": "python",
   "pygments_lexer": "ipython3",
   "version": "3.11.4"
  },
  "orig_nbformat": 4
 },
 "nbformat": 4,
 "nbformat_minor": 2
}
