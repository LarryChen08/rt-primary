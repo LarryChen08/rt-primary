{
 "cells": [
  {
   "cell_type": "code",
   "execution_count": null,
   "metadata": {},
   "outputs": [],
   "source": [
    "tBeginPrice = 16\n",
    "tBeginDst = 3\n",
    "tPrice = 2.5\n",
    "tLongDst = 15\n",
    "dPrice = 2.4\n",
    "dMin = 13\n",
    "uPrice = 2.17\n",
    "uMin = 15\n",
    "#d = eval(input('distance:'))"
   ]
  },
  {
   "cell_type": "code",
   "execution_count": null,
   "metadata": {},
   "outputs": [],
   "source": [
    "for d in range(50,201,1):\n",
    "    d /= 10\n",
    "    #Taxi\n",
    "    \n",
    "    if d < tBeginDst:\n",
    "        d1, d2 = 0, 0\n",
    "    elif d < tLongDst:\n",
    "        d1, d2 = d - tBeginDst, 0\n",
    "    else:\n",
    "        d1, d2 = tLongDst - tBeginDst, d - tLongDst\n",
    "    tMoney = tBeginPrice + d1*tPrice + d2*tPrice*1.5\n",
    "\n",
    "    #Didi\n",
    "    dMoney = dPrice*d\n",
    "    if dMoney < dMin:\n",
    "        dMoney = dMin\n",
    "    #Uber\n",
    "    uMoney = uPrice*d\n",
    "    if uMoney < uMin:\n",
    "        uMoney = uMin\n",
    "    print('km: ' + str(d))\n",
    "    print('Taxi: ' + str(tMoney))\n",
    "    print('Didi: ' + str(dMoney))\n",
    "    print('Uber: ' + str(uMoney))"
   ]
  }
 ],
 "metadata": {
  "language_info": {
   "name": "python"
  },
  "orig_nbformat": 4
 },
 "nbformat": 4,
 "nbformat_minor": 2
}
