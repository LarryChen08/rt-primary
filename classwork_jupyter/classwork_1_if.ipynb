{
 "cells": [
  {
   "cell_type": "code",
   "execution_count": null,
   "metadata": {},
   "outputs": [],
   "source": [
    "import time\n",
    "pApple = 3.5\n",
    "a, b = eval(input('weight of apples and bananas:'))\n",
    "sum = 0"
   ]
  },
  {
   "cell_type": "code",
   "execution_count": null,
   "metadata": {},
   "outputs": [],
   "source": [
    "# if\n",
    "# <5\n",
    "if b <= 5:\n",
    "    sum += b*5.5\n",
    "    b = 0\n",
    "else:\n",
    "    sum += 5*5.5\n",
    "    b -= 5\n",
    "# 5-10\n",
    "if b <= 5:\n",
    "    sum += b*5.5*0.8\n",
    "    b = 0\n",
    "else:\n",
    "    sum += 5*5.5*0.8\n",
    "    b -= 5\n",
    "# 10-20\n",
    "if b <= 10:\n",
    "    sum += b*5.5*0.7\n",
    "    b = 0\n",
    "else:\n",
    "    sum += 10*5.5*0.7\n",
    "    b -= 10\n",
    "# >20\n",
    "sum += b*5.5*0.6\n",
    "print('price: '+str(sum+a*pApple))"
   ]
  },
  {
   "cell_type": "code",
   "execution_count": null,
   "metadata": {},
   "outputs": [],
   "source": [
    "#loop-extra\n",
    "aList = [5,5,10]\n",
    "price = [1,0.8,0.7,0.6]\n",
    "for i in range(4):\n",
    "    if i == 3:\n",
    "        sum += b*5.5*price[i]\n",
    "        print('price: '+str(sum+a*pApple))\n",
    "        break\n",
    "    if b <= aList[i]:\n",
    "        sum += b*5.5*price[i]\n",
    "        print('price: '+str(sum+a*pApple))\n",
    "        break\n",
    "    sum += aList[i]*5.5*price[i]\n",
    "    b -= aList[i]"
   ]
  }
 ],
 "metadata": {
  "language_info": {
   "name": "python"
  },
  "orig_nbformat": 4
 },
 "nbformat": 4,
 "nbformat_minor": 2
}
